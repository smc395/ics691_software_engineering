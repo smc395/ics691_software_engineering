{
 "cells": [
  {
   "cell_type": "code",
   "execution_count": 3,
   "metadata": {},
   "outputs": [],
   "source": [
    "from scipy import stats\n",
    "import pandas as pd"
   ]
  },
  {
   "cell_type": "code",
   "execution_count": 1,
   "metadata": {},
   "outputs": [],
   "source": [
    "aPath = './lotte-android-code/1.0.3/1.0.3.csv'\n",
    "bPath = './lotte-android-code/5.2.0/5.2.0.csv'"
   ]
  },
  {
   "cell_type": "code",
   "execution_count": 4,
   "metadata": {},
   "outputs": [],
   "source": [
    "a_df = pd.read_csv(filepath_or_buffer=aPath)\n",
    "b_df = pd.read_csv(filepath_or_buffer=bPath)"
   ]
  },
  {
   "cell_type": "code",
   "execution_count": 5,
   "metadata": {
    "scrolled": true
   },
   "outputs": [
    {
     "data": {
      "text/html": [
       "<div>\n",
       "<style scoped>\n",
       "    .dataframe tbody tr th:only-of-type {\n",
       "        vertical-align: middle;\n",
       "    }\n",
       "\n",
       "    .dataframe tbody tr th {\n",
       "        vertical-align: top;\n",
       "    }\n",
       "\n",
       "    .dataframe thead th {\n",
       "        text-align: right;\n",
       "    }\n",
       "</style>\n",
       "<table border=\"1\" class=\"dataframe\">\n",
       "  <thead>\n",
       "    <tr style=\"text-align: right;\">\n",
       "      <th></th>\n",
       "      <th>Kind</th>\n",
       "      <th>Name</th>\n",
       "      <th>CountLineCode</th>\n",
       "      <th>Cyclomatic</th>\n",
       "      <th>RatioCommentToCode</th>\n",
       "      <th>MaxInheritanceTree</th>\n",
       "      <th>CountDeclInstanceMethod</th>\n",
       "      <th>CountDeclInstanceVariable</th>\n",
       "      <th>CountDeclMethod</th>\n",
       "      <th>CountClassCoupled</th>\n",
       "      <th>PercentLackOfCohesion</th>\n",
       "      <th>CountDeclMethodPublic</th>\n",
       "      <th>CountDeclClassMethod</th>\n",
       "      <th>CountDeclClassVariable</th>\n",
       "      <th>CountDeclClass</th>\n",
       "    </tr>\n",
       "  </thead>\n",
       "  <tbody>\n",
       "    <tr>\n",
       "      <th>0</th>\n",
       "      <td>Package</td>\n",
       "      <td>(Unnamed_Package)</td>\n",
       "      <td>0.0</td>\n",
       "      <td>NaN</td>\n",
       "      <td>0.00</td>\n",
       "      <td>NaN</td>\n",
       "      <td>0.0</td>\n",
       "      <td>0.0</td>\n",
       "      <td>0.0</td>\n",
       "      <td>NaN</td>\n",
       "      <td>NaN</td>\n",
       "      <td>0.0</td>\n",
       "      <td>0.0</td>\n",
       "      <td>0.0</td>\n",
       "      <td>0.0</td>\n",
       "    </tr>\n",
       "    <tr>\n",
       "      <th>1</th>\n",
       "      <td>File</td>\n",
       "      <td>AnimatableColorValue.java</td>\n",
       "      <td>41.0</td>\n",
       "      <td>NaN</td>\n",
       "      <td>0.00</td>\n",
       "      <td>NaN</td>\n",
       "      <td>4.0</td>\n",
       "      <td>0.0</td>\n",
       "      <td>4.0</td>\n",
       "      <td>NaN</td>\n",
       "      <td>NaN</td>\n",
       "      <td>2.0</td>\n",
       "      <td>0.0</td>\n",
       "      <td>0.0</td>\n",
       "      <td>1.0</td>\n",
       "    </tr>\n",
       "    <tr>\n",
       "      <th>2</th>\n",
       "      <td>File</td>\n",
       "      <td>AnimatableFloatValue.java</td>\n",
       "      <td>45.0</td>\n",
       "      <td>NaN</td>\n",
       "      <td>0.00</td>\n",
       "      <td>NaN</td>\n",
       "      <td>6.0</td>\n",
       "      <td>0.0</td>\n",
       "      <td>6.0</td>\n",
       "      <td>NaN</td>\n",
       "      <td>NaN</td>\n",
       "      <td>2.0</td>\n",
       "      <td>0.0</td>\n",
       "      <td>0.0</td>\n",
       "      <td>1.0</td>\n",
       "    </tr>\n",
       "    <tr>\n",
       "      <th>3</th>\n",
       "      <td>File</td>\n",
       "      <td>AnimatableIntegerValue.java</td>\n",
       "      <td>47.0</td>\n",
       "      <td>NaN</td>\n",
       "      <td>0.00</td>\n",
       "      <td>NaN</td>\n",
       "      <td>5.0</td>\n",
       "      <td>0.0</td>\n",
       "      <td>5.0</td>\n",
       "      <td>NaN</td>\n",
       "      <td>NaN</td>\n",
       "      <td>2.0</td>\n",
       "      <td>0.0</td>\n",
       "      <td>0.0</td>\n",
       "      <td>1.0</td>\n",
       "    </tr>\n",
       "    <tr>\n",
       "      <th>4</th>\n",
       "      <td>File</td>\n",
       "      <td>AnimatableLayer.java</td>\n",
       "      <td>223.0</td>\n",
       "      <td>NaN</td>\n",
       "      <td>0.02</td>\n",
       "      <td>NaN</td>\n",
       "      <td>26.0</td>\n",
       "      <td>15.0</td>\n",
       "      <td>26.0</td>\n",
       "      <td>NaN</td>\n",
       "      <td>NaN</td>\n",
       "      <td>12.0</td>\n",
       "      <td>0.0</td>\n",
       "      <td>0.0</td>\n",
       "      <td>5.0</td>\n",
       "    </tr>\n",
       "  </tbody>\n",
       "</table>\n",
       "</div>"
      ],
      "text/plain": [
       "      Kind                         Name  CountLineCode  Cyclomatic  \\\n",
       "0  Package            (Unnamed_Package)            0.0         NaN   \n",
       "1     File    AnimatableColorValue.java           41.0         NaN   \n",
       "2     File    AnimatableFloatValue.java           45.0         NaN   \n",
       "3     File  AnimatableIntegerValue.java           47.0         NaN   \n",
       "4     File         AnimatableLayer.java          223.0         NaN   \n",
       "\n",
       "   RatioCommentToCode  MaxInheritanceTree  CountDeclInstanceMethod  \\\n",
       "0                0.00                 NaN                      0.0   \n",
       "1                0.00                 NaN                      4.0   \n",
       "2                0.00                 NaN                      6.0   \n",
       "3                0.00                 NaN                      5.0   \n",
       "4                0.02                 NaN                     26.0   \n",
       "\n",
       "   CountDeclInstanceVariable  CountDeclMethod  CountClassCoupled  \\\n",
       "0                        0.0              0.0                NaN   \n",
       "1                        0.0              4.0                NaN   \n",
       "2                        0.0              6.0                NaN   \n",
       "3                        0.0              5.0                NaN   \n",
       "4                       15.0             26.0                NaN   \n",
       "\n",
       "   PercentLackOfCohesion  CountDeclMethodPublic  CountDeclClassMethod  \\\n",
       "0                    NaN                    0.0                   0.0   \n",
       "1                    NaN                    2.0                   0.0   \n",
       "2                    NaN                    2.0                   0.0   \n",
       "3                    NaN                    2.0                   0.0   \n",
       "4                    NaN                   12.0                   0.0   \n",
       "\n",
       "   CountDeclClassVariable  CountDeclClass  \n",
       "0                     0.0             0.0  \n",
       "1                     0.0             1.0  \n",
       "2                     0.0             1.0  \n",
       "3                     0.0             1.0  \n",
       "4                     0.0             5.0  "
      ]
     },
     "execution_count": 5,
     "metadata": {},
     "output_type": "execute_result"
    }
   ],
   "source": [
    "a_df.head()"
   ]
  },
  {
   "cell_type": "code",
   "execution_count": 20,
   "metadata": {},
   "outputs": [],
   "source": [
    "version_a = a_df['CountDeclClass'].dropna()"
   ]
  },
  {
   "cell_type": "code",
   "execution_count": 21,
   "metadata": {},
   "outputs": [],
   "source": [
    "version_b = b_df['CountDeclClass'].dropna()"
   ]
  },
  {
   "cell_type": "code",
   "execution_count": 22,
   "metadata": {},
   "outputs": [
    {
     "data": {
      "text/plain": [
       "MannwhitneyuResult(statistic=9703.0, pvalue=0.018658538023986038)"
      ]
     },
     "execution_count": 22,
     "metadata": {},
     "output_type": "execute_result"
    }
   ],
   "source": [
    "stats.mannwhitneyu(version_a, version_b, alternative='two-sided')"
   ]
  },
  {
   "cell_type": "code",
   "execution_count": null,
   "metadata": {},
   "outputs": [],
   "source": []
  }
 ],
 "metadata": {
  "kernelspec": {
   "display_name": "Python 3",
   "language": "python",
   "name": "python3"
  },
  "language_info": {
   "codemirror_mode": {
    "name": "ipython",
    "version": 3
   },
   "file_extension": ".py",
   "mimetype": "text/x-python",
   "name": "python",
   "nbconvert_exporter": "python",
   "pygments_lexer": "ipython3",
   "version": "3.7.3"
  }
 },
 "nbformat": 4,
 "nbformat_minor": 2
}
